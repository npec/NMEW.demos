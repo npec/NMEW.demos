{
 "cells": [
  {
   "cell_type": "code",
   "execution_count": 1,
   "metadata": {
    "slideshow": {
     "slide_type": "slide"
    }
   },
   "outputs": [],
   "source": [
    "import os\n",
    "import requests\n",
    "import time \n",
    "\n",
    "from tqdm import tqdm"
   ]
  },
  {
   "cell_type": "code",
   "execution_count": 2,
   "metadata": {
    "slideshow": {
     "slide_type": "slide"
    }
   },
   "outputs": [],
   "source": [
    "# setting download parameters\n",
    "sba = 'NW' # Other subareas (Table 3)\n",
    "var = 'CHL' # variable name \n",
    "comp = 'day' # monthly composite | here can be 'day', 'month' or 'year' \n",
    "init = 'S' # Initial character of the sensor name, MODIS-Aqua (A) and SGLI-GCOMC (GS) \n",
    "ys = 1997 # start year\n",
    "ms = 9 # start month\n",
    "ds = 10 # start day of month\n",
    "ye = 1998 # end year + 1, if end is 1997 then use yend = 1997 + 1 \n",
    "me = 11 # end month + 1, if end is 12 (Dec) then use 13, if 1 then use 2\n",
    "de = 11 # end day\n",
    "file_ext = ('nc', 'png') # file extension (type) to download, ('nc', 'png') or ('nc',) or ('png',) \n",
    "url = 'https://ocean.nowpap3.go.jp/image_search/{filetype}/{subarea}/{year}/{filename}'"
   ]
  },
  {
   "cell_type": "code",
   "execution_count": 3,
   "metadata": {
    "slideshow": {
     "slide_type": "slide"
    }
   },
   "outputs": [],
   "source": [
    "# Day month fetching file generator\n",
    "def daymonth_filegen(filetype:tuple=file_ext):\n",
    "    # Define the netCDF (PNG) file name\n",
    "    for month in range(ms, me):\n",
    "        if comp == 'day':\n",
    "            for day in range(ds, de):\n",
    "                files = [f'{init}{year}{month:02}{day:02}_{var}_{sba}_{comp}.{ext}' \n",
    "                         for ext in filetype]\n",
    "                \n",
    "                yield from [url.format(filetype='netcdf', subarea=sba, year=year, filename=f) \n",
    "                            if f.endswith('.nc') else \n",
    "                            url.format(filetype='images', subarea=sba, year=year, filename=f)\n",
    "                            for f in files]\n",
    "                            \n",
    "        if comp == 'month':\n",
    "            files = [f'{init}{year}{month:02}_{var}_{sba}_{comp}.{ext}'\n",
    "                     for ext in filetype]\n",
    "            \n",
    "            yield from [url.format(filetype='netcdf', subarea=sba, year=year, filename=f) \n",
    "                        if f.endswith('.nc') else \n",
    "                        url.format(filetype='images', subarea=sba, year=year, filename=f)\n",
    "                        for f in files]"
   ]
  },
  {
   "cell_type": "code",
   "execution_count": 4,
   "metadata": {
    "slideshow": {
     "slide_type": "slide"
    }
   },
   "outputs": [],
   "source": [
    "# Function to download the data\n",
    "def get_file(query_url:str):\n",
    "    getfile = os.path.basename(query_url)\n",
    "    with requests.get(query) as r:\n",
    "        if r.status_code != 200:\n",
    "            print(f'{os.path.basename(query_url)}: FileNotFound')\n",
    "            return\n",
    "        total = int(r.headers.get('content-length'))                \n",
    "        print('File: {} '.format(getfile), end='')\n",
    "        with tqdm(total=total) as bar, open(getfile, \"wb\") as handle:\n",
    "            for chunk in r.iter_content(chunk_size=max(int(total / 1000), 1024 * 1024)):\n",
    "                # download progress check tqdm\n",
    "                if chunk: \n",
    "                    handle.write(chunk)\n",
    "                    time.sleep(0.1)\n",
    "                    bar.update(len(chunk))"
   ]
  },
  {
   "cell_type": "code",
   "execution_count": 5,
   "metadata": {
    "slideshow": {
     "slide_type": "slide"
    }
   },
   "outputs": [
    {
     "name": "stdout",
     "output_type": "stream",
     "text": [
      "1997...\n"
     ]
    },
    {
     "name": "stderr",
     "output_type": "stream",
     "text": [
      "100%|████████████████████████████████████████████████████████████| 63782/63782 [00:00<00:00, 603069.66it/s]"
     ]
    },
    {
     "name": "stdout",
     "output_type": "stream",
     "text": [
      "File: S19970910_CHL_NW_day.nc "
     ]
    },
    {
     "name": "stderr",
     "output_type": "stream",
     "text": [
      "\n",
      "100%|█████████████████████████████████████████████████████████| 996650/996650 [00:00<00:00, 9678931.50it/s]"
     ]
    },
    {
     "name": "stdout",
     "output_type": "stream",
     "text": [
      "File: S19970910_CHL_NW_day.png "
     ]
    },
    {
     "name": "stderr",
     "output_type": "stream",
     "text": [
      "\n",
      " 70%|██████████████████████████████████████▎                | 1048576/1506945 [00:00<00:00, 9620323.89it/s]"
     ]
    },
    {
     "name": "stdout",
     "output_type": "stream",
     "text": [
      "File: S19971010_CHL_NW_day.nc "
     ]
    },
    {
     "name": "stderr",
     "output_type": "stream",
     "text": [
      "100%|███████████████████████████████████████████████████████| 1506945/1506945 [00:00<00:00, 6881121.61it/s]\n",
      " 63%|██████████████████████████████████                    | 1048576/1663575 [00:00<00:00, 10002471.05it/s]"
     ]
    },
    {
     "name": "stdout",
     "output_type": "stream",
     "text": [
      "File: S19971010_CHL_NW_day.png "
     ]
    },
    {
     "name": "stderr",
     "output_type": "stream",
     "text": [
      "100%|███████████████████████████████████████████████████████| 1663575/1663575 [00:00<00:00, 7998243.06it/s]"
     ]
    },
    {
     "name": "stdout",
     "output_type": "stream",
     "text": [
      "done!\n"
     ]
    },
    {
     "name": "stderr",
     "output_type": "stream",
     "text": [
      "\n"
     ]
    }
   ],
   "source": [
    "# Now retrieve the data from NMEW\n",
    "for year in range(ys, ye):\n",
    "    print(f'{year}...')\n",
    "    if comp in ('day', 'month'):\n",
    "        for query in daymonth_filegen():\n",
    "            # ----------------------\n",
    "            get_file(query_url=query)\n",
    "            # ----------------------\n",
    "            \n",
    "    if comp == 'year':\n",
    "        ncfile = f'{init}{year}_{var}_{sba}_{comp}.nc'\n",
    "        query = url.format(filetype='netcdf', subarea=sba, year=year, filename=ncfile)\n",
    "        # ----------------------\n",
    "        get_file(query_url=query)\n",
    "        # ----------------------\n",
    "\n",
    "        pngfile = f'{init}{year}_{var}_{sba}_{comp}.png'\n",
    "        query = url.format(filetype='images', subarea=sba, year=year, filename=pngfile)\n",
    "        # ----------------------\n",
    "        get_file(query_url=query)\n",
    "        # ----------------------\n",
    "\n",
    "print('done!')"
   ]
  },
  {
   "cell_type": "code",
   "execution_count": null,
   "metadata": {},
   "outputs": [],
   "source": []
  }
 ],
 "metadata": {
  "celltoolbar": "Slideshow",
  "kernelspec": {
   "display_name": "Python 3",
   "language": "python",
   "name": "python3"
  },
  "language_info": {
   "codemirror_mode": {
    "name": "ipython",
    "version": 3
   },
   "file_extension": ".py",
   "mimetype": "text/x-python",
   "name": "python",
   "nbconvert_exporter": "python",
   "pygments_lexer": "ipython3",
   "version": "3.7.6"
  }
 },
 "nbformat": 4,
 "nbformat_minor": 4
}
